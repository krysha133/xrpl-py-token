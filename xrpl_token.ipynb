{
 "cells": [
  {
   "cell_type": "code",
   "execution_count": 1,
   "metadata": {},
   "outputs": [],
   "source": [
    "#%pip install xrpl-py"
   ]
  },
  {
   "cell_type": "code",
   "execution_count": 13,
   "metadata": {},
   "outputs": [],
   "source": [
    "#%pip install asyncio"
   ]
  },
  {
   "cell_type": "code",
   "execution_count": 4,
   "metadata": {},
   "outputs": [
    {
     "name": "stdout",
     "output_type": "stream",
     "text": [
      "<xrpl.asyncio.clients.async_json_rpc_client.AsyncJsonRpcClient object at 0x000001F8F1417280>\n"
     ]
    }
   ],
   "source": [
    "#Establish connection to testnet\n",
    "from xrpl.asyncio.clients import AsyncJsonRpcClient\n",
    "\n",
    "client = AsyncJsonRpcClient(url=\"https://s.altnet.rippletest.net:51234/\")\n",
    "print(client)"
   ]
  },
  {
   "cell_type": "code",
   "execution_count": 16,
   "metadata": {},
   "outputs": [
    {
     "name": "stderr",
     "output_type": "stream",
     "text": [
      "C:\\Users\\Kris\\anaconda3\\envs\\xrpl_env\\lib\\typing.py:1119: RuntimeWarning: coroutine 'generate_faucet_wallet' was never awaited\n",
      "  params = tuple(_type_check(p, msg) for p in params)\n",
      "RuntimeWarning: Enable tracemalloc to get the object allocation traceback\n",
      "C:\\Users\\Kris\\AppData\\Local\\Temp/ipykernel_10776/543330420.py:3: RuntimeWarning: coroutine 'generate_faucet_wallet' was never awaited\n",
      "  issuer = await generate_faucet_wallet(client)\n",
      "RuntimeWarning: Enable tracemalloc to get the object allocation traceback\n"
     ]
    },
    {
     "name": "stdout",
     "output_type": "stream",
     "text": [
      "public_key: EDD0782CAE3F042E194D94377B3FAD7BC4CE9D850BD4E5C352861FB18BBFEB41EA\n",
      "private_key: -HIDDEN-\n",
      "classic_address: r9WZ5PdJHyL1LodqQxL4TsKnRSW2uEGUNi public_key: ED88C40AFB411C8A51F1F57A555D83D27A57FCDB180E88FD2657D2CC51FC7DBF5B\n",
      "private_key: -HIDDEN-\n",
      "classic_address: rwHtUmDVoFjP2jBCQcuWuRDbVU26svAGk9\n"
     ]
    },
    {
     "name": "stderr",
     "output_type": "stream",
     "text": [
      "C:\\Users\\Kris\\AppData\\Local\\Temp/ipykernel_10776/543330420.py:4: RuntimeWarning: coroutine 'generate_faucet_wallet' was never awaited\n",
      "  receiver = await generate_faucet_wallet(client)\n",
      "RuntimeWarning: Enable tracemalloc to get the object allocation traceback\n"
     ]
    }
   ],
   "source": [
    "#Create issuer and receiver wallets and prefund them \n",
    "from xrpl.asyncio.wallet import generate_faucet_wallet\n",
    "\n",
    "issuer = await generate_faucet_wallet(client)\n",
    "receiver = await generate_faucet_wallet(client)\n",
    "print(issuer, receiver)\n"
   ]
  },
  {
   "cell_type": "code",
   "execution_count": 7,
   "metadata": {},
   "outputs": [
    {
     "name": "stdout",
     "output_type": "stream",
     "text": [
      "5A494E4300000000000000000000000000000000\n"
     ]
    }
   ],
   "source": [
    "#Construct token_symbol by converting name into hex (needed for >3 letter name)\n",
    "token = \"ZINC\"\n",
    "token_bytes = token.encode(\"ascii\").hex().upper()\n",
    "token_symbol = '{:<040s}'.format(token_bytes)\n",
    "amount = \"13000\"\n",
    "print(token_symbol)"
   ]
  },
  {
   "cell_type": "code",
   "execution_count": 19,
   "metadata": {},
   "outputs": [
    {
     "name": "stdout",
     "output_type": "stream",
     "text": [
      "24181232\n"
     ]
    }
   ],
   "source": [
    "#Checking latest closed ledger\n",
    "from xrpl.asyncio.ledger import get_latest_validated_ledger_sequence\n",
    "print(await get_latest_validated_ledger_sequence(client))"
   ]
  },
  {
   "cell_type": "code",
   "execution_count": 23,
   "metadata": {},
   "outputs": [
    {
     "name": "stdout",
     "output_type": "stream",
     "text": [
      "Response(status=<ResponseStatus.SUCCESS: 'success'>, result={'Account': 'r9WZ5PdJHyL1LodqQxL4TsKnRSW2uEGUNi', 'Fee': '10', 'Flags': 0, 'LastLedgerSequence': 24181431, 'Sequence': 24181139, 'SetFlag': 8, 'SigningPubKey': 'EDD0782CAE3F042E194D94377B3FAD7BC4CE9D850BD4E5C352861FB18BBFEB41EA', 'TransactionType': 'AccountSet', 'TxnSignature': '1A0794614BBCE8A17B3FDCE2E1FCB4C39DF36E2DAACD94D6C86F67E075726A7731C59B5E628A1E10DD151FF27764325F16CCE557E9055C400FAD6BAD200FE70F', 'date': 694724250, 'hash': 'C8BD5BE13069CA8E2A4251B65458E48732AE491FC3A2CA92BB1E60029A0172C2', 'inLedger': 24181413, 'ledger_index': 24181413, 'meta': {'AffectedNodes': [{'ModifiedNode': {'FinalFields': {'Account': 'r9WZ5PdJHyL1LodqQxL4TsKnRSW2uEGUNi', 'Balance': '999999990', 'Flags': 8388608, 'OwnerCount': 0, 'Sequence': 24181140}, 'LedgerEntryType': 'AccountRoot', 'LedgerIndex': 'A09024BCB3862212CFD0D3FD3EDE1C4300836AE0CF4E86D81FA9E21C413FC7FA', 'PreviousFields': {'Balance': '1000000000', 'Flags': 0, 'Sequence': 24181139}, 'PreviousTxnID': '4957753C925166DF8AF8020017A2835F63C374A08834181A8F1968F48056D5D5', 'PreviousTxnLgrSeq': 24181139}}], 'TransactionIndex': 0, 'TransactionResult': 'tesSUCCESS'}, 'validated': True}, id=None, type=<ResponseType.RESPONSE: 'response'>)\n"
     ]
    }
   ],
   "source": [
    "from xrpl.models.transactions import AccountSet, AccountSetFlag\n",
    "from xrpl.asyncio.transaction import safe_sign_and_autofill_transaction, send_reliable_submission\n",
    "#Set default ripple flag?\n",
    "account_set = AccountSet(account=issuer.classic_address, set_flag= AccountSetFlag.ASF_DEFAULT_RIPPLE)\n",
    "signed_account_set = await safe_sign_and_autofill_transaction(account_set, issuer, client)\n",
    "response = await send_reliable_submission(signed_account_set, client)\n",
    "print(response)"
   ]
  },
  {
   "cell_type": "code",
   "execution_count": 26,
   "metadata": {},
   "outputs": [
    {
     "name": "stdout",
     "output_type": "stream",
     "text": [
      "Response(status=<ResponseStatus.SUCCESS: 'success'>, result={'Account': 'rwHtUmDVoFjP2jBCQcuWuRDbVU26svAGk9', 'Fee': '10', 'Flags': 0, 'LastLedgerSequence': 24181643, 'LimitAmount': {'currency': '5A494E4300000000000000000000000000000000', 'issuer': 'r9WZ5PdJHyL1LodqQxL4TsKnRSW2uEGUNi', 'value': '13000'}, 'Sequence': 24181141, 'SigningPubKey': 'ED88C40AFB411C8A51F1F57A555D83D27A57FCDB180E88FD2657D2CC51FC7DBF5B', 'TransactionType': 'TrustSet', 'TxnSignature': 'B23AB01D3A98FE594E6A799C8D3189AE4BA256643046E97B6156508A5635E19BBB4C4F507F41AF8E14606078A111E3F268B14076680340FA29487EE61D4CE608', 'date': 694724912, 'hash': '3A4EA68FDF68EE84F4DCDD15A9C6FA61412E5004875A22DA71BFE21FCEFC99BD', 'inLedger': 24181625, 'ledger_index': 24181625, 'meta': {'AffectedNodes': [{'CreatedNode': {'LedgerEntryType': 'DirectoryNode', 'LedgerIndex': '709EADE440953222F7E9BC2B9C7DF15B6974A033FC1011EAF93CE5D6D25A7143', 'NewFields': {'Owner': 'rwHtUmDVoFjP2jBCQcuWuRDbVU26svAGk9', 'RootIndex': '709EADE440953222F7E9BC2B9C7DF15B6974A033FC1011EAF93CE5D6D25A7143'}}}, {'CreatedNode': {'LedgerEntryType': 'DirectoryNode', 'LedgerIndex': '7AEF45F40FA8312D201880B5CBBA0325FF9003FF5DAC8C00426DA9EED7ADB91E', 'NewFields': {'Owner': 'r9WZ5PdJHyL1LodqQxL4TsKnRSW2uEGUNi', 'RootIndex': '7AEF45F40FA8312D201880B5CBBA0325FF9003FF5DAC8C00426DA9EED7ADB91E'}}}, {'ModifiedNode': {'FinalFields': {'Account': 'rwHtUmDVoFjP2jBCQcuWuRDbVU26svAGk9', 'Balance': '999999990', 'Flags': 0, 'OwnerCount': 1, 'Sequence': 24181142}, 'LedgerEntryType': 'AccountRoot', 'LedgerIndex': '96CEAE85FAA16660783A874790669BC5C2B1FA92CA3AEF34DBFC27322EE4C51D', 'PreviousFields': {'Balance': '1000000000', 'OwnerCount': 0, 'Sequence': 24181141}, 'PreviousTxnID': 'D412A6E1E1871E72F63EFF7187EF0B57C452BA5C73992BAC78A9C2940D8D40EF', 'PreviousTxnLgrSeq': 24181141}}, {'ModifiedNode': {'LedgerEntryType': 'AccountRoot', 'LedgerIndex': 'A09024BCB3862212CFD0D3FD3EDE1C4300836AE0CF4E86D81FA9E21C413FC7FA', 'PreviousTxnID': 'C8BD5BE13069CA8E2A4251B65458E48732AE491FC3A2CA92BB1E60029A0172C2', 'PreviousTxnLgrSeq': 24181413}}, {'CreatedNode': {'LedgerEntryType': 'RippleState', 'LedgerIndex': 'FA8AFB75ED121E779421824BD2441EBF097C591C44024F62D8A3AA1617D2FA3B', 'NewFields': {'Balance': {'currency': '5A494E4300000000000000000000000000000000', 'issuer': 'rrrrrrrrrrrrrrrrrrrrBZbvji', 'value': '0'}, 'Flags': 131072, 'HighLimit': {'currency': '5A494E4300000000000000000000000000000000', 'issuer': 'rwHtUmDVoFjP2jBCQcuWuRDbVU26svAGk9', 'value': '13000'}, 'LowLimit': {'currency': '5A494E4300000000000000000000000000000000', 'issuer': 'r9WZ5PdJHyL1LodqQxL4TsKnRSW2uEGUNi', 'value': '0'}}}}], 'TransactionIndex': 0, 'TransactionResult': 'tesSUCCESS'}, 'validated': True}, id=None, type=<ResponseType.RESPONSE: 'response'>)\n"
     ]
    },
    {
     "name": "stderr",
     "output_type": "stream",
     "text": [
      "C:\\Users\\Kris\\AppData\\Local\\Temp/ipykernel_10776/1011151164.py:11: RuntimeWarning: coroutine 'send_reliable_submission' was never awaited\n",
      "  response = await send_reliable_submission(signed_trustset, client)\n",
      "RuntimeWarning: Enable tracemalloc to get the object allocation traceback\n",
      "C:\\Users\\Kris\\AppData\\Local\\Temp/ipykernel_10776/1011151164.py:11: RuntimeWarning: coroutine 'safe_sign_and_autofill_transaction' was never awaited\n",
      "  response = await send_reliable_submission(signed_trustset, client)\n",
      "RuntimeWarning: Enable tracemalloc to get the object allocation traceback\n"
     ]
    }
   ],
   "source": [
    "#Receiver extends trustline to issuer to accept new token\n",
    "from xrpl.models.transactions import TrustSet\n",
    "trustset = TrustSet.from_dict({\n",
    "    \"account\": receiver.classic_address,\n",
    "    \"limit_amount\": {\n",
    "        \"issuer\": issuer.classic_address,\n",
    "        \"currency\": token_symbol,\n",
    "        \"value\": amount\n",
    "    }\n",
    "})\n",
    "signed_trustset = await safe_sign_and_autofill_transaction(trustset, receiver, client)\n",
    "response = await send_reliable_submission(signed_trustset, client)\n",
    "print(response)"
   ]
  },
  {
   "cell_type": "code",
   "execution_count": 28,
   "metadata": {},
   "outputs": [
    {
     "name": "stdout",
     "output_type": "stream",
     "text": [
      "{'account': 'rwHtUmDVoFjP2jBCQcuWuRDbVU26svAGk9',\n",
      " 'ledger_current_index': 24181769,\n",
      " 'lines': [{'account': 'r9WZ5PdJHyL1LodqQxL4TsKnRSW2uEGUNi',\n",
      "            'balance': '0',\n",
      "            'currency': '5A494E4300000000000000000000000000000000',\n",
      "            'limit': '13000',\n",
      "            'limit_peer': '0',\n",
      "            'no_ripple': False,\n",
      "            'no_ripple_peer': False,\n",
      "            'quality_in': 0,\n",
      "            'quality_out': 0}],\n",
      " 'validated': False}\n"
     ]
    }
   ],
   "source": [
    "#Check receiver account trust lines\n",
    "from xrpl.models.requests import AccountLines\n",
    "from pprint import pprint\n",
    "al = AccountLines(account=receiver.classic_address)\n",
    "response = await client.request(al)\n",
    "pprint(response.result)"
   ]
  },
  {
   "cell_type": "code",
   "execution_count": 40,
   "metadata": {},
   "outputs": [
    {
     "name": "stdout",
     "output_type": "stream",
     "text": [
      "Response(status=<ResponseStatus.SUCCESS: 'success'>,\n",
      "         result={'Account': 'r9WZ5PdJHyL1LodqQxL4TsKnRSW2uEGUNi',\n",
      "                 'Amount': {'currency': '5A494E4300000000000000000000000000000000',\n",
      "                            'issuer': 'r9WZ5PdJHyL1LodqQxL4TsKnRSW2uEGUNi',\n",
      "                            'value': '390'},\n",
      "                 'Destination': 'rwHtUmDVoFjP2jBCQcuWuRDbVU26svAGk9',\n",
      "                 'Fee': '10',\n",
      "                 'Flags': 0,\n",
      "                 'LastLedgerSequence': 24182518,\n",
      "                 'Sequence': 24181143,\n",
      "                 'SigningPubKey': 'EDD0782CAE3F042E194D94377B3FAD7BC4CE9D850BD4E5C352861FB18BBFEB41EA',\n",
      "                 'TransactionType': 'Payment',\n",
      "                 'TxnSignature': '8F919474505F2EF1123251A8BC88C768CBD8617E958CFB8A9ED796BA782AD0ACF40FB91D6F10D58BE5C74C876993052EEC6D600A666285E7C2D1B98528F6E602',\n",
      "                 'date': 694727631,\n",
      "                 'hash': '3545F40C97972EC0BF4787EE83AB81AC5818B727A3AACB9D9C524247B430A185',\n",
      "                 'inLedger': 24182500,\n",
      "                 'ledger_index': 24182500,\n",
      "                 'meta': {'AffectedNodes': [{'ModifiedNode': {'FinalFields': {'Account': 'r9WZ5PdJHyL1LodqQxL4TsKnRSW2uEGUNi',\n",
      "                                                                              'Balance': '999999950',\n",
      "                                                                              'Flags': 8388608,\n",
      "                                                                              'OwnerCount': 0,\n",
      "                                                                              'Sequence': 24181144},\n",
      "                                                              'LedgerEntryType': 'AccountRoot',\n",
      "                                                              'LedgerIndex': 'A09024BCB3862212CFD0D3FD3EDE1C4300836AE0CF4E86D81FA9E21C413FC7FA',\n",
      "                                                              'PreviousFields': {'Balance': '999999960',\n",
      "                                                                                 'Sequence': 24181143},\n",
      "                                                              'PreviousTxnID': '56ED53DE0BCF2E96D377ECD7E255619C7FA987E9D0678287FEC7E15B3E478674',\n",
      "                                                              'PreviousTxnLgrSeq': 24182247}},\n",
      "                                            {'ModifiedNode': {'FinalFields': {'Balance': {'currency': '5A494E4300000000000000000000000000000000',\n",
      "                                                                                          'issuer': 'rrrrrrrrrrrrrrrrrrrrBZbvji',\n",
      "                                                                                          'value': '-420'},\n",
      "                                                                              'Flags': 131072,\n",
      "                                                                              'HighLimit': {'currency': '5A494E4300000000000000000000000000000000',\n",
      "                                                                                            'issuer': 'rwHtUmDVoFjP2jBCQcuWuRDbVU26svAGk9',\n",
      "                                                                                            'value': '13000'},\n",
      "                                                                              'HighNode': '0',\n",
      "                                                                              'LowLimit': {'currency': '5A494E4300000000000000000000000000000000',\n",
      "                                                                                           'issuer': 'r9WZ5PdJHyL1LodqQxL4TsKnRSW2uEGUNi',\n",
      "                                                                                           'value': '0'},\n",
      "                                                                              'LowNode': '0'},\n",
      "                                                              'LedgerEntryType': 'RippleState',\n",
      "                                                              'LedgerIndex': 'FA8AFB75ED121E779421824BD2441EBF097C591C44024F62D8A3AA1617D2FA3B',\n",
      "                                                              'PreviousFields': {'Balance': {'currency': '5A494E4300000000000000000000000000000000',\n",
      "                                                                                             'issuer': 'rrrrrrrrrrrrrrrrrrrrBZbvji',\n",
      "                                                                                             'value': '-30'}},\n",
      "                                                              'PreviousTxnID': '56ED53DE0BCF2E96D377ECD7E255619C7FA987E9D0678287FEC7E15B3E478674',\n",
      "                                                              'PreviousTxnLgrSeq': 24182247}}],\n",
      "                          'TransactionIndex': 1,\n",
      "                          'TransactionResult': 'tesSUCCESS',\n",
      "                          'delivered_amount': {'currency': '5A494E4300000000000000000000000000000000',\n",
      "                                               'issuer': 'r9WZ5PdJHyL1LodqQxL4TsKnRSW2uEGUNi',\n",
      "                                               'value': '390'}},\n",
      "                 'validated': True},\n",
      "         id=None,\n",
      "         type=<ResponseType.RESPONSE: 'response'>)\n"
     ]
    }
   ],
   "source": [
    "#Issue payment of zinc to receiver and sign tx\n",
    "from xrpl.models.transactions import Payment\n",
    "from xrpl.models.amounts import IssuedCurrencyAmount\n",
    "zinc_amount = IssuedCurrencyAmount(value = \"390\", issuer= issuer.classic_address, currency= token_symbol)\n",
    "payment = Payment(account= issuer.classic_address, destination= receiver.classic_address, amount= zinc_amount)\n",
    "signed_payment = await safe_sign_and_autofill_transaction(payment, issuer, client)\n",
    "response = await send_reliable_submission(signed_payment, client)\n",
    "pprint(response)"
   ]
  },
  {
   "cell_type": "code",
   "execution_count": 42,
   "metadata": {},
   "outputs": [
    {
     "name": "stdout",
     "output_type": "stream",
     "text": [
      "public_key: ED074EE9AA0850AE23857FAB844273FFBFFE2FA4FC080448454739E9ABE1F7E156\n",
      "private_key: -HIDDEN-\n",
      "classic_address: rHSS9YqaAWs69g2WPpJawTte75sQc6AWXS\n"
     ]
    }
   ],
   "source": [
    "# Generating another wallet and setting a trustline\n",
    "account3 = await generate_faucet_wallet(client)\n",
    "print(account3)"
   ]
  },
  {
   "cell_type": "code",
   "execution_count": 43,
   "metadata": {},
   "outputs": [
    {
     "name": "stdout",
     "output_type": "stream",
     "text": [
      "Response(status=<ResponseStatus.SUCCESS: 'success'>, result={'Account': 'rHSS9YqaAWs69g2WPpJawTte75sQc6AWXS', 'Fee': '10', 'Flags': 0, 'LastLedgerSequence': 24183100, 'LimitAmount': {'currency': '5A494E4300000000000000000000000000000000', 'issuer': 'r9WZ5PdJHyL1LodqQxL4TsKnRSW2uEGUNi', 'value': '13000'}, 'Sequence': 24183051, 'SigningPubKey': 'ED074EE9AA0850AE23857FAB844273FFBFFE2FA4FC080448454739E9ABE1F7E156', 'TransactionType': 'TrustSet', 'TxnSignature': '29ADE4F1A166FB5BD4188FA7F6993847668282D67FF71D723CCE98F4A6BFB4294BDA106E49485CD916F5EE9ABC1CC5085C9BB86912536E649D18E4D4EC18540B', 'date': 694729450, 'hash': '9BC78808B4597082FB26A58ABFDC1F6D99888BBD58323253C965876008DA9CBD', 'inLedger': 24183082, 'ledger_index': 24183082, 'meta': {'AffectedNodes': [{'CreatedNode': {'LedgerEntryType': 'RippleState', 'LedgerIndex': '0B086FA437E82A9C696C9A23CC01EA5D5F6FA258F3D801165A63B653732E3C42', 'NewFields': {'Balance': {'currency': '5A494E4300000000000000000000000000000000', 'issuer': 'rrrrrrrrrrrrrrrrrrrrBZbvji', 'value': '0'}, 'Flags': 131072, 'HighLimit': {'currency': '5A494E4300000000000000000000000000000000', 'issuer': 'rHSS9YqaAWs69g2WPpJawTte75sQc6AWXS', 'value': '13000'}, 'LowLimit': {'currency': '5A494E4300000000000000000000000000000000', 'issuer': 'r9WZ5PdJHyL1LodqQxL4TsKnRSW2uEGUNi', 'value': '0'}}}}, {'CreatedNode': {'LedgerEntryType': 'DirectoryNode', 'LedgerIndex': '3303F45DA83C86A12FBB99979947203AB47D76407AC7B796828E92C2355E1031', 'NewFields': {'Owner': 'rHSS9YqaAWs69g2WPpJawTte75sQc6AWXS', 'RootIndex': '3303F45DA83C86A12FBB99979947203AB47D76407AC7B796828E92C2355E1031'}}}, {'ModifiedNode': {'FinalFields': {'Account': 'rHSS9YqaAWs69g2WPpJawTte75sQc6AWXS', 'Balance': '999999990', 'Flags': 0, 'OwnerCount': 1, 'Sequence': 24183052}, 'LedgerEntryType': 'AccountRoot', 'LedgerIndex': '76BDB9C1A7E9F21A6788B925B6862B2F5D8F7F702F74C2702363AF29F092C4B8', 'PreviousFields': {'Balance': '1000000000', 'OwnerCount': 0, 'Sequence': 24183051}, 'PreviousTxnID': 'B9B578B77D2694306CBEAA1E33A06F1FD6100E66CE0E5764C86A113EBDFC5FC3', 'PreviousTxnLgrSeq': 24183051}}, {'ModifiedNode': {'FinalFields': {'Flags': 0, 'Owner': 'r9WZ5PdJHyL1LodqQxL4TsKnRSW2uEGUNi', 'RootIndex': '7AEF45F40FA8312D201880B5CBBA0325FF9003FF5DAC8C00426DA9EED7ADB91E'}, 'LedgerEntryType': 'DirectoryNode', 'LedgerIndex': '7AEF45F40FA8312D201880B5CBBA0325FF9003FF5DAC8C00426DA9EED7ADB91E'}}, {'ModifiedNode': {'LedgerEntryType': 'AccountRoot', 'LedgerIndex': 'A09024BCB3862212CFD0D3FD3EDE1C4300836AE0CF4E86D81FA9E21C413FC7FA', 'PreviousTxnID': '3545F40C97972EC0BF4787EE83AB81AC5818B727A3AACB9D9C524247B430A185', 'PreviousTxnLgrSeq': 24182500}}], 'TransactionIndex': 1, 'TransactionResult': 'tesSUCCESS'}, 'validated': True}, id=None, type=<ResponseType.RESPONSE: 'response'>)\n"
     ]
    }
   ],
   "source": [
    "#Account3 sets trustline to issuer to accept $zinc\n",
    "from xrpl.models.transactions import TrustSet\n",
    "trustset = TrustSet.from_dict({\n",
    "    \"account\": account3.classic_address,\n",
    "    \"limit_amount\": {\n",
    "        \"issuer\": issuer.classic_address,\n",
    "        \"currency\": token_symbol,\n",
    "        \"value\": amount\n",
    "    }\n",
    "})\n",
    "signed_trustset = await safe_sign_and_autofill_transaction(trustset, account3, client)\n",
    "response = await send_reliable_submission(signed_trustset, client)\n",
    "print(response)"
   ]
  },
  {
   "cell_type": "code",
   "execution_count": 44,
   "metadata": {},
   "outputs": [
    {
     "name": "stdout",
     "output_type": "stream",
     "text": [
      "Response(status=<ResponseStatus.SUCCESS: 'success'>,\n",
      "         result={'Account': 'rwHtUmDVoFjP2jBCQcuWuRDbVU26svAGk9',\n",
      "                 'Amount': {'currency': '5A494E4300000000000000000000000000000000',\n",
      "                            'issuer': 'r9WZ5PdJHyL1LodqQxL4TsKnRSW2uEGUNi',\n",
      "                            'value': '20'},\n",
      "                 'Destination': 'rHSS9YqaAWs69g2WPpJawTte75sQc6AWXS',\n",
      "                 'Fee': '10',\n",
      "                 'Flags': 0,\n",
      "                 'LastLedgerSequence': 24183296,\n",
      "                 'Sequence': 24181142,\n",
      "                 'SigningPubKey': 'ED88C40AFB411C8A51F1F57A555D83D27A57FCDB180E88FD2657D2CC51FC7DBF5B',\n",
      "                 'TransactionType': 'Payment',\n",
      "                 'TxnSignature': 'FA0AA4BC33490CDB8BBF416D04C703ACC8E937B19B1BE23E0CD65FFF2A23BAEA793ED19BD892C6E1668DF62B96B40EA5CC00D870DC4E2AFD8F610434699F9901',\n",
      "                 'date': 694730061,\n",
      "                 'hash': 'A0F169174776DFE70BDEE867923050FF17C07941111FD2594BC2FF2EB8A10A68',\n",
      "                 'inLedger': 24183278,\n",
      "                 'ledger_index': 24183278,\n",
      "                 'meta': {'AffectedNodes': [{'ModifiedNode': {'FinalFields': {'Balance': {'currency': '5A494E4300000000000000000000000000000000',\n",
      "                                                                                          'issuer': 'rrrrrrrrrrrrrrrrrrrrBZbvji',\n",
      "                                                                                          'value': '-20'},\n",
      "                                                                              'Flags': 131072,\n",
      "                                                                              'HighLimit': {'currency': '5A494E4300000000000000000000000000000000',\n",
      "                                                                                            'issuer': 'rHSS9YqaAWs69g2WPpJawTte75sQc6AWXS',\n",
      "                                                                                            'value': '13000'},\n",
      "                                                                              'HighNode': '0',\n",
      "                                                                              'LowLimit': {'currency': '5A494E4300000000000000000000000000000000',\n",
      "                                                                                           'issuer': 'r9WZ5PdJHyL1LodqQxL4TsKnRSW2uEGUNi',\n",
      "                                                                                           'value': '0'},\n",
      "                                                                              'LowNode': '0'},\n",
      "                                                              'LedgerEntryType': 'RippleState',\n",
      "                                                              'LedgerIndex': '0B086FA437E82A9C696C9A23CC01EA5D5F6FA258F3D801165A63B653732E3C42',\n",
      "                                                              'PreviousFields': {'Balance': {'currency': '5A494E4300000000000000000000000000000000',\n",
      "                                                                                             'issuer': 'rrrrrrrrrrrrrrrrrrrrBZbvji',\n",
      "                                                                                             'value': '0'}},\n",
      "                                                              'PreviousTxnID': '9BC78808B4597082FB26A58ABFDC1F6D99888BBD58323253C965876008DA9CBD',\n",
      "                                                              'PreviousTxnLgrSeq': 24183082}},\n",
      "                                            {'ModifiedNode': {'FinalFields': {'Account': 'rwHtUmDVoFjP2jBCQcuWuRDbVU26svAGk9',\n",
      "                                                                              'Balance': '999999980',\n",
      "                                                                              'Flags': 0,\n",
      "                                                                              'OwnerCount': 1,\n",
      "                                                                              'Sequence': 24181143},\n",
      "                                                              'LedgerEntryType': 'AccountRoot',\n",
      "                                                              'LedgerIndex': '96CEAE85FAA16660783A874790669BC5C2B1FA92CA3AEF34DBFC27322EE4C51D',\n",
      "                                                              'PreviousFields': {'Balance': '999999990',\n",
      "                                                                                 'Sequence': 24181142},\n",
      "                                                              'PreviousTxnID': '3A4EA68FDF68EE84F4DCDD15A9C6FA61412E5004875A22DA71BFE21FCEFC99BD',\n",
      "                                                              'PreviousTxnLgrSeq': 24181625}},\n",
      "                                            {'ModifiedNode': {'FinalFields': {'Balance': {'currency': '5A494E4300000000000000000000000000000000',\n",
      "                                                                                          'issuer': 'rrrrrrrrrrrrrrrrrrrrBZbvji',\n",
      "                                                                                          'value': '-400'},\n",
      "                                                                              'Flags': 131072,\n",
      "                                                                              'HighLimit': {'currency': '5A494E4300000000000000000000000000000000',\n",
      "                                                                                            'issuer': 'rwHtUmDVoFjP2jBCQcuWuRDbVU26svAGk9',\n",
      "                                                                                            'value': '13000'},\n",
      "                                                                              'HighNode': '0',\n",
      "                                                                              'LowLimit': {'currency': '5A494E4300000000000000000000000000000000',\n",
      "                                                                                           'issuer': 'r9WZ5PdJHyL1LodqQxL4TsKnRSW2uEGUNi',\n",
      "                                                                                           'value': '0'},\n",
      "                                                                              'LowNode': '0'},\n",
      "                                                              'LedgerEntryType': 'RippleState',\n",
      "                                                              'LedgerIndex': 'FA8AFB75ED121E779421824BD2441EBF097C591C44024F62D8A3AA1617D2FA3B',\n",
      "                                                              'PreviousFields': {'Balance': {'currency': '5A494E4300000000000000000000000000000000',\n",
      "                                                                                             'issuer': 'rrrrrrrrrrrrrrrrrrrrBZbvji',\n",
      "                                                                                             'value': '-420'}},\n",
      "                                                              'PreviousTxnID': '3545F40C97972EC0BF4787EE83AB81AC5818B727A3AACB9D9C524247B430A185',\n",
      "                                                              'PreviousTxnLgrSeq': 24182500}}],\n",
      "                          'TransactionIndex': 1,\n",
      "                          'TransactionResult': 'tesSUCCESS',\n",
      "                          'delivered_amount': {'currency': '5A494E4300000000000000000000000000000000',\n",
      "                                               'issuer': 'r9WZ5PdJHyL1LodqQxL4TsKnRSW2uEGUNi',\n",
      "                                               'value': '20'}},\n",
      "                 'validated': True},\n",
      "         id=None,\n",
      "         type=<ResponseType.RESPONSE: 'response'>)\n"
     ]
    }
   ],
   "source": [
    "#Transfer $zinc to account3\n",
    "zinc_transfer = IssuedCurrencyAmount(value= \"20\", issuer= issuer.classic_address, currency=token_symbol)\n",
    "payment2 = Payment(account= receiver.classic_address, destination= account3.classic_address, amount= zinc_transfer)\n",
    "signed_payment2= await safe_sign_and_autofill_transaction(payment2, receiver, client)\n",
    "response = await send_reliable_submission(signed_payment2, client)\n",
    "pprint(response)"
   ]
  },
  {
   "cell_type": "code",
   "execution_count": null,
   "metadata": {},
   "outputs": [],
   "source": []
  }
 ],
 "metadata": {
  "interpreter": {
   "hash": "63fd5069d213b44bf678585dea6b12cceca9941eaf7f819626cde1f2670de90d"
  },
  "kernelspec": {
   "display_name": "Python 3.9.7 64-bit",
   "name": "python3"
  },
  "language_info": {
   "codemirror_mode": {
    "name": "ipython",
    "version": 3
   },
   "file_extension": ".py",
   "mimetype": "text/x-python",
   "name": "python",
   "nbconvert_exporter": "python",
   "pygments_lexer": "ipython3",
   "version": "3.10.0"
  },
  "orig_nbformat": 4
 },
 "nbformat": 4,
 "nbformat_minor": 2
}
